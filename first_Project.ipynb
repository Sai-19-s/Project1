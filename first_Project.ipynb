{
 "cells": [
  {
   "cell_type": "code",
   "execution_count": 2,
   "metadata": {},
   "outputs": [
    {
     "name": "stdout",
     "output_type": "stream",
     "text": [
      "Enter number less than 1.\n"
     ]
    }
   ],
   "source": [
    "# finding n is a prime or not.\n",
    "n = int(input(\"Enter a number: \"))\n",
    "check = True\n",
    "if n>1:\n",
    "    for i in range(2, n//2+1):\n",
    "        if n//i == 0:\n",
    "            check = False\n",
    "    if check:\n",
    "        print(f\"{n} is a prime number.\")\n",
    "    else:\n",
    "        print(f\"{n} is not a prime number.\")\n",
    "else:\n",
    "    #raise ValueError(\"Enter a number less than 1.\")\n",
    "    print(\"Enter number less than 1.\")\n",
    "print(\"This is the end of the code.\")"
   ]
  },
  {
   "cell_type": "code",
   "execution_count": null,
   "metadata": {},
   "outputs": [],
   "source": []
  }
 ],
 "metadata": {
  "kernelspec": {
   "display_name": "Python 3",
   "language": "python",
   "name": "python3"
  },
  "language_info": {
   "codemirror_mode": {
    "name": "ipython",
    "version": 3
   },
   "file_extension": ".py",
   "mimetype": "text/x-python",
   "name": "python",
   "nbconvert_exporter": "python",
   "pygments_lexer": "ipython3",
   "version": "3.11.3"
  },
  "orig_nbformat": 4
 },
 "nbformat": 4,
 "nbformat_minor": 2
}
