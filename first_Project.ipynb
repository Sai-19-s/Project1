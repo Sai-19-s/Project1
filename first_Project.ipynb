{
 "cells": [
  {
   "cell_type": "code",
   "execution_count": null,
   "metadata": {},
   "outputs": [],
   "source": [
    "# finding n is a prime or not.\n",
    "n = int(input(\"Enter a number: \"))\n",
    "check = True\n",
    "for i in range(2, n//2+1):\n",
    "    if n//i == 0:\n",
    "        check = False\n",
    "if check:\n",
    "    print(f\"{n} is a prime number.\")"
   ]
  }
 ],
 "metadata": {
  "language_info": {
   "name": "python"
  },
  "orig_nbformat": 4
 },
 "nbformat": 4,
 "nbformat_minor": 2
}
